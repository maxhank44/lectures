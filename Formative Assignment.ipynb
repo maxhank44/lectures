{
 "cells": [
  {
   "cell_type": "markdown",
   "metadata": {},
   "source": [
    "### Problem 1\n",
    "**0 - No prior experience**\n",
    "\n",
    "I would like to acquire the following skills in this course:\n",
    "1. Get familar with programming language in general. \n",
    "2. Get to know how to apply programming language to real world problems.\n",
    "3. Learn the basics about algorithms and how to program them.\n",
    "\n",
    "___\n",
    "\n",
    "*And I am super excited to start the course soon.*"
   ]
  },
  {
   "cell_type": "code",
   "execution_count": 1,
   "metadata": {},
   "outputs": [
    {
     "name": "stdout",
     "output_type": "stream",
     "text": [
      "What is your name? Max\n",
      "Hello, Max it is lovely to meet you.\n"
     ]
    }
   ],
   "source": [
    "#Problem 2 \n",
    "name = input('What is your name? ')\n",
    "print('Hello, ' + name + ' it is lovely to meet you.')"
   ]
  },
  {
   "cell_type": "code",
   "execution_count": 1,
   "metadata": {},
   "outputs": [
    {
     "name": "stdout",
     "output_type": "stream",
     "text": [
      "What is your name? Max\n",
      "How old are you? 22\n",
      "Hello Max, in 78 years you are going to be 100 years old!\n"
     ]
    }
   ],
   "source": [
    "#Additional \n",
    "name = input('What is your name? ')\n",
    "age = int(input('How old are you? '))\n",
    "x = (str(100-age))\n",
    "print ('Hello ' + name + ', in ' + x + ' years you are going to be 100 years old!')"
   ]
  },
  {
   "cell_type": "code",
   "execution_count": null,
   "metadata": {},
   "outputs": [],
   "source": []
  }
 ],
 "metadata": {
  "kernelspec": {
   "display_name": "Python 3",
   "language": "python",
   "name": "python3"
  },
  "language_info": {
   "codemirror_mode": {
    "name": "ipython",
    "version": 3
   },
   "file_extension": ".py",
   "mimetype": "text/x-python",
   "name": "python",
   "nbconvert_exporter": "python",
   "pygments_lexer": "ipython3",
   "version": "3.8.3"
  }
 },
 "nbformat": 4,
 "nbformat_minor": 4
}
